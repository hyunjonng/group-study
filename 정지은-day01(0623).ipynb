{
 "cells": [
  {
   "cell_type": "markdown",
   "id": "feb924f3",
   "metadata": {},
   "source": [
    "## chapter 01 파이썬 시작하기"
   ]
  },
  {
   "cell_type": "code",
   "execution_count": null,
   "id": "51f11d1c",
   "metadata": {},
   "outputs": [],
   "source": [
    "#프로그래밍 - 프로그램을 만드는 것\n",
    "#프로그램 - 미리 작성된 것\n",
    "#컴퓨터 프로그램 - 컴퓨터가 무엇을 할 지 미리 작성한 진행 계획\n",
    "\n",
    "#표현식 - 어떠한 값을 만들어내는 간단한 코드\n",
    "#키워드 - 특별한 의미가 부여된 단어\n",
    "#식별자 - 프로그램밍 언어에서 이름을 붙일 떄 사용하는 단어\n",
    "#캐멀케이스(대문자로 시작) - 클래스\n",
    "#스네이크케이스(소문자로시작) - 뒤에 괄호가 있으면 함수, 없으면 변수\n",
    "#주석 - 프로그램의 진행에 전혀 영향을 주지 않는 코드\n",
    "#출력 -  print() "
   ]
  },
  {
   "cell_type": "markdown",
   "id": "969c1aff",
   "metadata": {},
   "source": [
    "## chapter 02 자료형\n",
    "### 01 . 자료형과 문자열"
   ]
  },
  {
   "cell_type": "code",
   "execution_count": 73,
   "id": "041c743e",
   "metadata": {},
   "outputs": [
    {
     "name": "stdout",
     "output_type": "stream",
     "text": [
      "문자열의 데이터 타입 :  <class 'str'>\n",
      "숫자의 데이터 타입 :  <class 'int'> <class 'float'>\n",
      "불리언의 데이터 타입 :  <class 'bool'>\n"
     ]
    }
   ],
   "source": [
    "# python의 자료형 \n",
    "\n",
    "\n",
    "# 문자열\n",
    "print('문자열의 데이터 타입 : ', type('문자열'))\n",
    "# 숫자\n",
    "print('숫자의 데이터 타입 : ', type(10), type(10.4))\n",
    "#불\n",
    "print('불리언의 데이터 타입 : ', type(True))"
   ]
  },
  {
   "cell_type": "code",
   "execution_count": 26,
   "id": "8da55fdf",
   "metadata": {},
   "outputs": [
    {
     "name": "stdout",
     "output_type": "stream",
     "text": [
      "\" 안녕하세요 !! \" \n"
     ]
    }
   ],
   "source": [
    "print('\" 안녕하세요 !! \" ')  # 문자열은 \" \" 또는 ' '"
   ]
  },
  {
   "cell_type": "code",
   "execution_count": 77,
   "id": "6cf8e85a",
   "metadata": {},
   "outputs": [
    {
     "name": "stdout",
     "output_type": "stream",
     "text": [
      "\" 안녕하세요 !! \" \n",
      "\\ \\ \\ \n",
      "1라인\n",
      "2라인\n",
      "\n",
      "1라인\n",
      "2라인\n",
      " 안녕하세요 !!       \n",
      "aaa 10\n",
      "안녕하세요\n",
      "안녕하세요안녕하세요안녕하세요\n",
      "안녕하세요안녕하세요안녕하세요\n"
     ]
    }
   ],
   "source": [
    "#문자열\n",
    "\n",
    "\n",
    "#  이스케이프 문자를 활용하여 문자열 만들기  : \\\" -> 일반 문자 \"\n",
    "# \\t : 탭, \\n : 뉴라인\n",
    "print(\"\\\" 안녕하세요 !! \\\" \")\n",
    "print(\"\\\\ \\\\ \\\\ \")\n",
    "\n",
    "# 여러 라인의 문자를 출력하기\n",
    "print(\"1라인\\n2라인\")\n",
    "print()\n",
    "print('''\\\n",
    "1라인\n",
    "2라인''')\n",
    "\n",
    "#  명령어가 1라인 이상으로 길어질 때 \\\n",
    "print(\" 안녕하세요 !! \\\n",
    "      \")\n",
    "\n",
    "print(\"aaa\", \\\n",
    "     10)\n",
    "\n",
    "# 문자열 연산자, 문자열 자르기, 문자열 길이 구하기\n",
    "# 문자열 + 문자열 -> 이어붙이기\n",
    "print(\"안녕\" + \"하세요\")\n",
    "# 문자열 * 문자열 -> 문자열을 숫자만큼 반복\n",
    "print(\"안녕하세요\" * 3)\n",
    "print(3 * \"안녕하세요\"  )\n",
    "\n",
    "# 문자열 자르기 : 문자열[시작인덱스 : 마지막 인덱스] \n",
    "# -> 시작은 포함, 마지막은 포함하지 않음\n",
    "hello = \"안녕하세요\"\n",
    "#전체 문자열의 길이 구하는 함수 : len(hello)\n",
    "print(len(hello))\n",
    "# 처음 문자와 마지막 문자 출력\n",
    "print(hello[0], hello[-1])\n",
    "# 처음부터 두 글자만 출력\n",
    "print(hello[ : 2])\n",
    "# 두번째 문자와 3번째 문자 출력\n",
    "print(hello[1:3])\n",
    "# 세번째 문자부터 끝까지 출력\n",
    "print(hello[3:])\n",
    "\n"
   ]
  },
  {
   "cell_type": "markdown",
   "id": "f8f70cd2",
   "metadata": {},
   "source": [
    "### 02. 숫자"
   ]
  },
  {
   "cell_type": "code",
   "execution_count": 14,
   "id": "449073b5",
   "metadata": {},
   "outputs": [
    {
     "name": "stdout",
     "output_type": "stream",
     "text": [
      "3test\n"
     ]
    }
   ],
   "source": [
    "# +,-,*,%, //(나머지), **(거듭제곱)\n",
    "print('3' + 'test') #ok\n",
    "#print(3 + 'test') #error"
   ]
  },
  {
   "cell_type": "markdown",
   "id": "6096c0a1",
   "metadata": {},
   "source": [
    "### 03. 변수와 입력"
   ]
  },
  {
   "cell_type": "code",
   "execution_count": 79,
   "id": "088d6544",
   "metadata": {},
   "outputs": [
    {
     "name": "stdout",
     "output_type": "stream",
     "text": [
      "10 20\n",
      "원주율 = 3.14159265\n",
      "반지름 = 10\n",
      "원의 둘레 = 62.831853\n",
      "원의 넓이 = 314.159265\n",
      "20\n",
      "200\n",
      "13.333333333333334\n",
      "test !!\n",
      "test !!test !!\n"
     ]
    }
   ],
   "source": [
    "#변수\n",
    "\n",
    "\n",
    "#변수만들기/사용하기\n",
    "var_a = 10\n",
    "var_a\n",
    "var_b = 20\n",
    "var_b # => 마지막 결과만 보여주기에 위의 var_a 값 안보임. 그래서 print 씀\n",
    "var_a + var_b \n",
    "print(var_a, var_b)\n",
    "hello #누적\n",
    "var_a = 'str variable'\n",
    "var_a #변경됨\n",
    "\n",
    "# 변수 선언과 할당\n",
    "pi = 3.14159265\n",
    "r = 10\n",
    "\n",
    "# 변수 참조\n",
    "print(\"원주율 =\", pi)\n",
    "print(\"반지름 =\", r)\n",
    "print(\"원의 둘레 =\", 2 * pi * r)\n",
    "print(\"원의 넓이 =\", pi * r * r)\n",
    "\n",
    "# 복합 대입 연산자\n",
    "a = 10\n",
    "a += 10 \n",
    "print(a)# a -> 20\n",
    "a *= 10 \n",
    "print(a)# a -> 200\n",
    "a /=15 \n",
    "print(a)# a -> 13\n",
    "\n",
    "#문자열 복합연산자\n",
    "a_str = 'test '\n",
    "a_str += '!!'\n",
    "print(a_str)\n",
    "\n",
    "a_str *=2\n",
    "print(a_str)\n",
    "\n",
    "\n",
    "#입력\n",
    "\n",
    "\n",
    "#input() -> 사용자가 입력하는 함수 \n",
    "input_str = input(\"문자 입력\")\n",
    "input_str\n",
    "type(input_str)\n",
    "\n",
    "# 데이터 타입 변경 : 문자를 숫자로 -> int(), float()\n",
    "# 숫자를 문자로 -> str()\n",
    "input_data = float(input_data)\n",
    "type(input_data)"
   ]
  },
  {
   "cell_type": "markdown",
   "id": "99bc2168",
   "metadata": {},
   "source": [
    "### 04. 숫자와 문자열의 다양한 기능"
   ]
  },
  {
   "cell_type": "code",
   "execution_count": 59,
   "id": "e4711415",
   "metadata": {},
   "outputs": [
    {
     "name": "stdout",
     "output_type": "stream",
     "text": [
      "3 + 5 = 8\n"
     ]
    }
   ],
   "source": [
    "# 문자열.format()\n",
    "\"{} {}\".format(10,'str')\n",
    "print(\"{} + {} = {}\".format(input_num1, input_num2, input_num1 + input_num2))\n",
    "\n",
    "\"{} 소수 {}\".format(3.45, \"float\", 34, 56)\n",
    "\n",
    "\"{} 소수 {} {}\".format(3.45, 'float', 34,56)\n",
    "\n",
    "# 정수 출력에서 format() 함수 활용\n",
    "print(\"{}\".format(52))\n",
    "print(\"{:d}\".format(52))\n",
    "print(\"{:5d}\".format(52))\n",
    "print(\"{:05d}\".format(52))\n",
    "print(\"{:05d}\".format(-52))\n",
    "\n",
    "# 기호와 함께 출력\n",
    "print(\"{:+d}\".format( 52))\n",
    "print(\"{:+d}\".format(-52))\n",
    "\n",
    "print(\"{: d}\".format(52))\n",
    "print(\"{: d}\".format(-52))\n",
    "\n",
    "# 기호와 함께 출력\n",
    "print(\"{:+5d}\".format(52)) # 부호와 함께 표현\n",
    "print(\"{:+5d}\".format(-52))\n",
    "\n",
    "print(\"{:=+5d}\".format(52)) #부호를 앞으로 밀기\n",
    "print(\"{:=+5d}\".format(-52)) \n",
    "\n",
    "print(\"{: =5.2f}\".format(-52.2444)) # 소수점 미만 두자리까지만 표현\n",
    "print(\"{:=10f}\".format(52.3444444)) # 실수 표현\n",
    "\n",
    "print(\"{:g}\".format(52.0)) # 의미 없는 소수점 미만 자료 버리기\n",
    "\n",
    "# 두 개의 숫자를 입력 받아 두 수의 합과 곱, 차 , 나머지 값을 다음의 형식으로 출력\n",
    "input_a = int(input(\"숫자 1 입력 :\"))\n",
    "input_b = int(input(\"숫자 2 입력 :\"))\n",
    "# 1. 입력 받은 두 수는 10,20\n",
    "prt_str = '입력 받은 두 수'\n",
    "print(\"{}는 {}, {}\".format(prt_str, input_a, input_b))\n",
    "# 2. 입력 받은 두 수 10과 20의 합은 30\n",
    "print(\"{} {}과 {}의 합은 {}\".format(prt_str, input_a, input_b, \n",
    "                                input_a+input_b))\n",
    "# 3. 입력 받은 두 수 10과 20의 곱은 200\n",
    "print(\"{} {}과 {}의 곱은 {}\".format(prt_str, input_a, input_b, \n",
    "                                input_a*input_b))\n",
    "# 4. 입력 받은 두 수 10과 20의 차는 -10\n",
    "print(\"{} {}과 {}의 차는 {}\".format(prt_str, input_a, input_b, \n",
    "                                input_a-input_b))\n",
    "# 5. 입력 받은 두 수 10과 20의 나눈 나머지는10..\n",
    "print(\"{} {}과 {}의 나머지 값은 {}\".format(prt_str, input_a, input_b, \n",
    "                                input_a/input_b))\n"
   ]
  }
 ],
 "metadata": {
  "kernelspec": {
   "display_name": "Python 3 (ipykernel)",
   "language": "python",
   "name": "python3"
  },
  "language_info": {
   "codemirror_mode": {
    "name": "ipython",
    "version": 3
   },
   "file_extension": ".py",
   "mimetype": "text/x-python",
   "name": "python",
   "nbconvert_exporter": "python",
   "pygments_lexer": "ipython3",
   "version": "3.9.12"
  }
 },
 "nbformat": 4,
 "nbformat_minor": 5
}
